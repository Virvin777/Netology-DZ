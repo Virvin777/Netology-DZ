{
 "cells": [
  {
   "cell_type": "code",
   "execution_count": 37,
   "metadata": {},
   "outputs": [],
   "source": [
    "from datetime import timedelta, datetime"
   ]
  },
  {
   "cell_type": "code",
   "execution_count": 22,
   "metadata": {},
   "outputs": [
    {
     "data": {
      "text/plain": [
       "datetime.datetime(1977, 8, 18, 0, 0)"
      ]
     },
     "execution_count": 22,
     "metadata": {},
     "output_type": "execute_result"
    }
   ],
   "source": [
    "datetime.strptime('Wednesday, October 2, 2002', '%A, %B %d, %Y')\n",
    "datetime.strptime('Friday, 11.10.13' , '%A, %d.%m.%y')\n",
    "datetime.strptime('Thursday, 18 August 1977' , '%A, %d %B %Y')"
   ]
  },
  {
   "cell_type": "code",
   "execution_count": 28,
   "metadata": {},
   "outputs": [
    {
     "name": "stdout",
     "output_type": "stream",
     "text": [
      "2018-04-02 = True\n",
      "2018-02-29 = {}\n",
      "2018-19-02 = {}\n"
     ]
    }
   ],
   "source": [
    "stream = ['2018-04-02', '2018-02-29', '2018-19-02']\n",
    "def date(stream):\n",
    "    format = '%Y-%m-%d'\n",
    "    for date in stream:\n",
    "        try:\n",
    "            res = bool(datetime.strptime(date, format))\n",
    "        except ValueError:\n",
    "            res = False\n",
    "        print(f'{date} = {res}')\n",
    "date(stream)\n"
   ]
  },
  {
   "cell_type": "code",
   "execution_count": 38,
   "metadata": {},
   "outputs": [
    {
     "name": "stdout",
     "output_type": "stream",
     "text": [
      "2018-02-20\n",
      "2018-02-21\n",
      "2018-02-22\n",
      "2018-02-23\n"
     ]
    }
   ],
   "source": [
    "def date_range(start_date,end_date):\n",
    "    format = '%Y-%m-%d'\n",
    "    try:\n",
    "        start = datetime.strptime(start_date, format)\n",
    "        stop = datetime.strptime(end_date, format)\n",
    "        current_dt = start\n",
    "        while current_dt <= stop:\n",
    "            print(current_dt.strftime('%Y-%m-%d'))\n",
    "            current_dt += timedelta(days=1)\n",
    "    except ValueError:\n",
    "        res = {}\n",
    "        return print(res)\n",
    "date_range('2018-02-20', '2018-02-23')\n",
    "    \n"
   ]
  },
  {
   "cell_type": "code",
   "execution_count": 72,
   "metadata": {},
   "outputs": [],
   "source": [
    "\n",
    "DEFAULT_USER_COUNT = 3\n",
    "def delete_and_return_last_user(region, default_list=['A100', 'A101', 'A102']):\n",
    "    element_to_delete = default_list[-1]\n",
    "    default_list.remove(element_to_delete)\n",
    "    return default_list[DEFAULT_USER_COUNT-2]\n"
   ]
  },
  {
   "cell_type": "code",
   "execution_count": null,
   "metadata": {},
   "outputs": [],
   "source": [
    "\"\"\"\n",
    "Ошибка возникает потому что второй раз обращаемся к элементу которого нет \n",
    "\"\"\""
   ]
  },
  {
   "cell_type": "code",
   "execution_count": 71,
   "metadata": {},
   "outputs": [
    {
     "ename": "IndexError",
     "evalue": "list index out of range",
     "output_type": "error",
     "traceback": [
      "\u001b[0;31m---------------------------------------------------------------------------\u001b[0m",
      "\u001b[0;31mIndexError\u001b[0m                                Traceback (most recent call last)",
      "Cell \u001b[0;32mIn [71], line 1\u001b[0m\n\u001b[0;32m----> 1\u001b[0m delete_and_return_last_user(\u001b[39m1\u001b[39;49m)\n",
      "Cell \u001b[0;32mIn [68], line 5\u001b[0m, in \u001b[0;36mdelete_and_return_last_user\u001b[0;34m(region, default_list)\u001b[0m\n\u001b[1;32m      3\u001b[0m element_to_delete \u001b[39m=\u001b[39m default_list[\u001b[39m-\u001b[39m\u001b[39m1\u001b[39m]\n\u001b[1;32m      4\u001b[0m default_list\u001b[39m.\u001b[39mremove(element_to_delete)\n\u001b[0;32m----> 5\u001b[0m \u001b[39mreturn\u001b[39;00m default_list[DEFAULT_USER_COUNT\u001b[39m-\u001b[39;49m\u001b[39m2\u001b[39;49m]\n",
      "\u001b[0;31mIndexError\u001b[0m: list index out of range"
     ]
    }
   ],
   "source": [
    "delete_and_return_last_user(1)"
   ]
  }
 ],
 "metadata": {
  "kernelspec": {
   "display_name": "Python 3.9.6 64-bit",
   "language": "python",
   "name": "python3"
  },
  "language_info": {
   "codemirror_mode": {
    "name": "ipython",
    "version": 3
   },
   "file_extension": ".py",
   "mimetype": "text/x-python",
   "name": "python",
   "nbconvert_exporter": "python",
   "pygments_lexer": "ipython3",
   "version": "3.9.6"
  },
  "orig_nbformat": 4,
  "vscode": {
   "interpreter": {
    "hash": "31f2aee4e71d21fbe5cf8b01ff0e069b9275f58929596ceb00d14d90e3e16cd6"
   }
  }
 },
 "nbformat": 4,
 "nbformat_minor": 2
}

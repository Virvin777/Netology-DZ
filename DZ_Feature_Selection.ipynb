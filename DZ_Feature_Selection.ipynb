{
 "cells": [
  {
   "cell_type": "code",
   "execution_count": 21,
   "metadata": {},
   "outputs": [],
   "source": [
    "import numpy as np\n",
    "from sklearn.datasets import make_classification\n",
    "from sklearn.linear_model import LogisticRegression\n",
    "from sklearn.model_selection import cross_val_score\n",
    "from sklearn.feature_selection import SelectKBest, f_classif, VarianceThreshold, SelectFromModel, SequentialFeatureSelector\n",
    "from sklearn.ensemble import RandomForestClassifier"
   ]
  },
  {
   "cell_type": "code",
   "execution_count": 22,
   "metadata": {},
   "outputs": [],
   "source": [
    "# Генерируем данные\n",
    "x_data_generated, y_data_generated = make_classification(scale=1)"
   ]
  },
  {
   "cell_type": "code",
   "execution_count": 23,
   "metadata": {},
   "outputs": [],
   "source": [
    "# Базовая модель логистической регрессии\n",
    "base_model = LogisticRegression()\n",
    "base_accuracy = cross_val_score(base_model, x_data_generated, y_data_generated, scoring='accuracy').mean()\n"
   ]
  },
  {
   "cell_type": "code",
   "execution_count": 24,
   "metadata": {},
   "outputs": [],
   "source": [
    "# Отбор признаков на основе корреляции\n",
    "corr_matrix = np.corrcoef(x_data_generated, rowvar=False)\n",
    "high_corr_indices = np.where(np.abs(corr_matrix) > 0.7)\n",
    "features_to_remove = set()\n",
    "for i, j in zip(*high_corr_indices):\n",
    "    if i != j and i not in features_to_remove:\n",
    "        features_to_remove.add(i)\n",
    "selected_features_corr = [i for i in range(x_data_generated.shape[1]) if i not in features_to_remove]\n",
    "model_corr = LogisticRegression()\n",
    "accuracy_corr = cross_val_score(model_corr, x_data_generated[:, selected_features_corr], y_data_generated, scoring='accuracy').mean()\n"
   ]
  },
  {
   "cell_type": "code",
   "execution_count": 25,
   "metadata": {},
   "outputs": [],
   "source": [
    "# Отбор низковариативных признаков\n",
    "variance_selector = VarianceThreshold(threshold=0.1)\n",
    "x_data_low_variance = variance_selector.fit_transform(x_data_generated)\n",
    "model_low_variance = LogisticRegression()\n",
    "accuracy_low_variance = cross_val_score(model_low_variance, x_data_low_variance, y_data_generated, scoring='accuracy').mean()\n"
   ]
  },
  {
   "cell_type": "code",
   "execution_count": 26,
   "metadata": {},
   "outputs": [],
   "source": [
    "# Отбор признаков на основе дисперсионного анализа\n",
    "selector_f_classif = SelectKBest(f_classif, k=5)\n",
    "x_data_f_classif = selector_f_classif.fit_transform(x_data_generated, y_data_generated)\n",
    "model_f_classif = LogisticRegression()\n",
    "accuracy_f_classif = cross_val_score(model_f_classif, x_data_f_classif, y_data_generated, scoring='accuracy').mean()\n"
   ]
  },
  {
   "cell_type": "code",
   "execution_count": 27,
   "metadata": {},
   "outputs": [],
   "source": [
    "# Отбор признаков с использованием логистической регрессии (L1 регуляризация)\n",
    "selector_l1 = SelectFromModel(LogisticRegression(penalty='l1', solver='liblinear'))\n",
    "x_data_l1 = selector_l1.fit_transform(x_data_generated, y_data_generated)\n",
    "model_l1 = LogisticRegression()\n",
    "accuracy_l1 = cross_val_score(model_l1, x_data_l1, y_data_generated, scoring='accuracy').mean()\n"
   ]
  },
  {
   "cell_type": "code",
   "execution_count": 28,
   "metadata": {},
   "outputs": [],
   "source": [
    "# Отбор признаков с использованием модели RandomForest\n",
    "selector_rf = SelectFromModel(RandomForestClassifier(n_estimators=100))\n",
    "x_data_rf = selector_rf.fit_transform(x_data_generated, y_data_generated)\n",
    "model_rf = LogisticRegression()\n",
    "accuracy_rf = cross_val_score(model_rf, x_data_rf, y_data_generated, scoring='accuracy').mean()\n"
   ]
  },
  {
   "cell_type": "code",
   "execution_count": 29,
   "metadata": {},
   "outputs": [],
   "source": [
    "# Перебор признаков с использованием SequentialFeatureSelector\n",
    "sfs = SequentialFeatureSelector(base_model, n_features_to_select=5)\n",
    "x_data_sfs = sfs.fit_transform(x_data_generated, y_data_generated)\n",
    "model_sfs = LogisticRegression()\n",
    "accuracy_sfs = cross_val_score(model_sfs, x_data_sfs, y_data_generated, scoring='accuracy').mean()\n"
   ]
  },
  {
   "cell_type": "code",
   "execution_count": 30,
   "metadata": {},
   "outputs": [
    {
     "name": "stdout",
     "output_type": "stream",
     "text": [
      "| Способ выбора признаков     | Количество признаков| Средняя точность модели |\n",
      "|-----------------------------|---------------------|-------------------------|\n",
      "| Базовая модель              | 20                  | 0.7900                  |\n",
      "| Корреляция                  | 17                  | 0.5200                  |\n",
      "| Низковариативные признаки   | 20                  | 0.7900                  |\n",
      "| Дисперсионный анализ        | 5                   | 0.8200                  |\n",
      "| Логистическая регрессия (L1)| 15                  | 0.8000                  |\n",
      "| Модель RandomForest         | 3                   | 0.8000                  |\n",
      "| SequentialFeatureSelector   | 5                   | 0.8500                  |\n"
     ]
    }
   ],
   "source": [
    "# Вывод результатов\n",
    "print(\"| Способ выбора признаков     | Количество признаков| Средняя точность модели |\")\n",
    "print(\"|-----------------------------|---------------------|-------------------------|\")\n",
    "print(f\"| Базовая модель              | {x_data_generated.shape[1]}                  | {base_accuracy:.4f}                  |\")\n",
    "print(f\"| Корреляция                  | {len(selected_features_corr)}                  | {accuracy_corr:.4f}                  |\")\n",
    "print(f\"| Низковариативные признаки   | {x_data_low_variance.shape[1]}                  | {accuracy_low_variance:.4f}                  |\")\n",
    "print(f\"| Дисперсионный анализ        | {x_data_f_classif.shape[1]}                   | {accuracy_f_classif:.4f}                  |\")\n",
    "print(f\"| Логистическая регрессия (L1)| {x_data_l1.shape[1]}                  | {accuracy_l1:.4f}                  |\")\n",
    "print(f\"| Модель RandomForest         | {x_data_rf.shape[1]}                   | {accuracy_rf:.4f}                  |\")\n",
    "print(f\"| SequentialFeatureSelector   | {x_data_sfs.shape[1]}                   | {accuracy_sfs:.4f}                  |\")\n"
   ]
  }
 ],
 "metadata": {
  "kernelspec": {
   "display_name": "base",
   "language": "python",
   "name": "python3"
  },
  "language_info": {
   "codemirror_mode": {
    "name": "ipython",
    "version": 3
   },
   "file_extension": ".py",
   "mimetype": "text/x-python",
   "name": "python",
   "nbconvert_exporter": "python",
   "pygments_lexer": "ipython3",
   "version": "3.9.13"
  },
  "orig_nbformat": 4
 },
 "nbformat": 4,
 "nbformat_minor": 2
}

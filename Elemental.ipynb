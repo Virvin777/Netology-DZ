{
 "cells": [
  {
   "cell_type": "code",
   "execution_count": 5,
   "metadata": {},
   "outputs": [],
   "source": [
    "import pandas as pd\n",
    "from statsmodels.tsa.holtwinters import ExponentialSmoothing\n",
    "from sklearn.metrics import mean_squared_error, mean_absolute_error\n",
    "\n",
    "non_stationary_series = pd.read_csv(\"daily-total-female-births-in-cal.csv\")\n",
    "stationary_series = pd.read_csv(\"daily-total-female-births-in-cal.csv\")\n"
   ]
  },
  {
   "cell_type": "code",
   "execution_count": 6,
   "metadata": {},
   "outputs": [],
   "source": [
    "def analyze_time_series(file_path, seasonal_periods):\n",
    "    # Загрузка данных\n",
    "    data = pd.read_csv(file_path, index_col=0, parse_dates=True)\n",
    "\n",
    "    # Разделение данных на обучающую и тестовую выборки\n",
    "    train_size = int(len(data) * 0.8)\n",
    "    train, test = data[0:train_size], data[train_size:]\n",
    "\n",
    "    # Обучение модели Хольта-Винтерса\n",
    "    model = ExponentialSmoothing(train, seasonal='add', seasonal_periods=seasonal_periods).fit()\n",
    "\n",
    "    # Прогнозирование для тестовых данных\n",
    "    predictions = model.forecast(steps=len(test))\n",
    "\n",
    "    # Оценка качества прогноза\n",
    "    mse = mean_squared_error(test, predictions)\n",
    "    mae = mean_absolute_error(test, predictions)\n",
    "\n",
    "    # Вывод результатов\n",
    "    print(f'MSE: {mse}')\n",
    "    print(f'MAE: {mae}')"
   ]
  },
  {
   "cell_type": "code",
   "execution_count": 7,
   "metadata": {},
   "outputs": [
    {
     "name": "stdout",
     "output_type": "stream",
     "text": [
      "MSE: 65.27880692391518\n",
      "MAE: 6.693419173074678\n",
      "MSE: 19380.205514044603\n",
      "MAE: 128.80006061403904\n"
     ]
    },
    {
     "name": "stderr",
     "output_type": "stream",
     "text": [
      "/Users/admin/opt/anaconda3/lib/python3.9/site-packages/statsmodels/tsa/base/tsa_model.py:471: ValueWarning: No frequency information was provided, so inferred frequency D will be used.\n",
      "  self._init_dates(dates, freq)\n",
      "/Users/admin/opt/anaconda3/lib/python3.9/site-packages/sklearn/utils/validation.py:623: FutureWarning: is_sparse is deprecated and will be removed in a future version. Check `isinstance(dtype, pd.SparseDtype)` instead.\n",
      "  if not hasattr(array, \"sparse\") and array.dtypes.apply(is_sparse).any():\n",
      "/Users/admin/opt/anaconda3/lib/python3.9/site-packages/sklearn/utils/validation.py:623: FutureWarning: is_sparse is deprecated and will be removed in a future version. Check `isinstance(dtype, pd.SparseDtype)` instead.\n",
      "  if not hasattr(array, \"sparse\") and array.dtypes.apply(is_sparse).any():\n",
      "/Users/admin/opt/anaconda3/lib/python3.9/site-packages/statsmodels/tsa/base/tsa_model.py:471: ValueWarning: No frequency information was provided, so inferred frequency MS will be used.\n",
      "  self._init_dates(dates, freq)\n",
      "/Users/admin/opt/anaconda3/lib/python3.9/site-packages/sklearn/utils/validation.py:623: FutureWarning: is_sparse is deprecated and will be removed in a future version. Check `isinstance(dtype, pd.SparseDtype)` instead.\n",
      "  if not hasattr(array, \"sparse\") and array.dtypes.apply(is_sparse).any():\n",
      "/Users/admin/opt/anaconda3/lib/python3.9/site-packages/sklearn/utils/validation.py:623: FutureWarning: is_sparse is deprecated and will be removed in a future version. Check `isinstance(dtype, pd.SparseDtype)` instead.\n",
      "  if not hasattr(array, \"sparse\") and array.dtypes.apply(is_sparse).any():\n"
     ]
    }
   ],
   "source": [
    "# Анализ временного ряда о ежедневных рождениях\n",
    "file_path_births = 'Series/daily-total-female-births-in-cal.csv'\n",
    "analyze_time_series(file_path_births, seasonal_periods=30)\n",
    "\n",
    "# Анализ временного ряда о месячных продажах\n",
    "file_path_sales = 'Series/monthly-sales-of-company-x-jan-6.csv'\n",
    "analyze_time_series(file_path_sales, seasonal_periods=12)\n"
   ]
  }
 ],
 "metadata": {
  "kernelspec": {
   "display_name": "myenv",
   "language": "python",
   "name": "python3"
  },
  "language_info": {
   "codemirror_mode": {
    "name": "ipython",
    "version": 3
   },
   "file_extension": ".py",
   "mimetype": "text/x-python",
   "name": "python",
   "nbconvert_exporter": "python",
   "pygments_lexer": "ipython3",
   "version": "3.9.13"
  }
 },
 "nbformat": 4,
 "nbformat_minor": 2
}

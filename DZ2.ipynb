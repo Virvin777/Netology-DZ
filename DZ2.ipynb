{
 "cells": [
  {
   "cell_type": "code",
   "execution_count": 6,
   "id": "e9c22488",
   "metadata": {},
   "outputs": [
    {
     "name": "stdout",
     "output_type": "stream",
     "text": [
      "Введите слоово: gggg\n",
      "Результат:  g\n"
     ]
    }
   ],
   "source": [
    "word = input('Введите слоово: ')\n",
    "num = len(word)\n",
    "if num%2 == 0:\n",
    "    print('Результат: ', word[num%2])\n",
    "else: \n",
    "    print('Результат: ', word[num%2]+word[num%2+1])"
   ]
  },
  {
   "cell_type": "code",
   "execution_count": null,
   "id": "079e4365",
   "metadata": {},
   "outputs": [],
   "source": [
    "num = 1\n",
    "sum = 0\n",
    "while num !=0:\n",
    "    num = int(input ('Введите число: '))\n",
    "    sum += num\n",
    "print('Результат: ', sum)"
   ]
  },
  {
   "cell_type": "code",
   "execution_count": 30,
   "id": "1b304f54",
   "metadata": {},
   "outputs": [
    {
     "name": "stdout",
     "output_type": "stream",
     "text": [
      "Результат: \n",
      "Внимание, кто-то может остаться без пары!\n"
     ]
    }
   ],
   "source": [
    "boys = ['Peter', 'Alex', 'John', 'Arthur', 'Richard']\n",
    "girls = ['Kate', 'Liza', 'Kira', 'Emma', 'Trisha']\n",
    "boys, girls = sorted(boys), sorted(girls)\n",
    "print ('Результат: ')\n",
    "if len(boys) == len(girls): \n",
    "    pari = zip(boys, girls)\n",
    "    for par in pari:\n",
    "        print(par[0], 'и', par[1])\n",
    "else: print('Внимание, кто-то может остаться без пары!')\n"
   ]
  },
  {
   "cell_type": "code",
   "execution_count": 4,
   "id": "dc5ee738",
   "metadata": {},
   "outputs": [
    {
     "name": "stdout",
     "output_type": "stream",
     "text": [
      "Средняя температура в странах:\n",
      "Thailand - 23.9 C\n",
      "Germany - 13.8 C\n",
      "Russia - 3.7 C\n",
      "Poland - 12.0 C\n"
     ]
    }
   ],
   "source": [
    "from statistics import mean\n",
    "countries_temperature = [\n",
    "['Thailand', [75.2, 77, 78.8, 73.4, 68, 75.2, 77]],\n",
    "['Germany', [57.2, 55.4, 59, 59, 53.6]],\n",
    "['Russia', [35.6, 37.4, 39.2, 41, 42.8, 39.2, 35.6]],\n",
    "['Poland', [50, 50, 53.6, 57.2, 55.4, 55.4]]\n",
    "]\n",
    "print('Средняя температура в странах:')\n",
    "i=0\n",
    "while i<4:\n",
    "    print(countries_temperature[i][0],'-', round((mean(countries_temperature[i][1])-32)*5/9, 1), 'C')\n",
    "    i +=1"
   ]
  },
  {
   "cell_type": "code",
   "execution_count": 72,
   "id": "cb1e9fcb",
   "metadata": {},
   "outputs": [
    {
     "name": "stdout",
     "output_type": "stream",
     "text": [
      "Среднее количество просмотров на уникального пользователя: 145.33\n"
     ]
    }
   ],
   "source": [
    "stream = [\n",
    "'2018-01-01,user100,150',\n",
    "'2018-01-07,user99,205',\n",
    "'2018-03-29,user1001,81'\n",
    "]\n",
    "n = (len(stream))\n",
    "user = []\n",
    "b = []\n",
    "count = 0\n",
    "for i in range(n):\n",
    "    user = stream[i].split(',')\n",
    "    if not user[1] in b:\n",
    "        b.append(user[1])\n",
    "    count += int(user[2])\n",
    "print('Среднее количество просмотров на уникального пользователя:', round(count/len(b),2))\n"
   ]
  },
  {
   "cell_type": "code",
   "execution_count": null,
   "id": "faa412a6",
   "metadata": {},
   "outputs": [],
   "source": []
  }
 ],
 "metadata": {
  "kernelspec": {
   "display_name": "Python 3 (ipykernel)",
   "language": "python",
   "name": "python3"
  },
  "language_info": {
   "codemirror_mode": {
    "name": "ipython",
    "version": 3
   },
   "file_extension": ".py",
   "mimetype": "text/x-python",
   "name": "python",
   "nbconvert_exporter": "python",
   "pygments_lexer": "ipython3",
   "version": "3.9.13"
  }
 },
 "nbformat": 4,
 "nbformat_minor": 5
}

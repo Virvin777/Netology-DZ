{
 "cells": [
  {
   "cell_type": "code",
   "execution_count": 124,
   "id": "23dc97b5",
   "metadata": {},
   "outputs": [],
   "source": [
    "# Задание 1"
   ]
  },
  {
   "cell_type": "code",
   "execution_count": 2,
   "id": "342a5b34",
   "metadata": {
    "scrolled": true
   },
   "outputs": [],
   "source": [
    "import pandas as pd"
   ]
  },
  {
   "cell_type": "code",
   "execution_count": 91,
   "id": "24559c3d",
   "metadata": {},
   "outputs": [],
   "source": [
    "movies = pd.read_csv('movies.csv')"
   ]
  },
  {
   "cell_type": "code",
   "execution_count": 92,
   "id": "59dfe9b7",
   "metadata": {},
   "outputs": [],
   "source": [
    "ratings = pd.read_csv('ratings.csv')"
   ]
  },
  {
   "cell_type": "code",
   "execution_count": 93,
   "id": "8097e68a",
   "metadata": {},
   "outputs": [],
   "source": [
    "data = movies.merge(ratings, how = 'left') # Объеденяем таблицы с названием фильмов и оценками"
   ]
  },
  {
   "cell_type": "code",
   "execution_count": 94,
   "id": "031dfb93",
   "metadata": {},
   "outputs": [],
   "source": [
    "data = data[['title', 'rating']] # Оставляем только нужные для работы столбцы"
   ]
  },
  {
   "cell_type": "code",
   "execution_count": 97,
   "id": "870a168d",
   "metadata": {},
   "outputs": [],
   "source": [
    "data['Сount'] = data.groupby(['title']).cumcount()+1 # Нумеруем количество оценок"
   ]
  },
  {
   "cell_type": "code",
   "execution_count": 123,
   "id": "99023c58",
   "metadata": {
    "scrolled": true
   },
   "outputs": [
    {
     "data": {
      "text/html": [
       "<div>\n",
       "<style scoped>\n",
       "    .dataframe tbody tr th:only-of-type {\n",
       "        vertical-align: middle;\n",
       "    }\n",
       "\n",
       "    .dataframe tbody tr th {\n",
       "        vertical-align: top;\n",
       "    }\n",
       "\n",
       "    .dataframe thead th {\n",
       "        text-align: right;\n",
       "    }\n",
       "</style>\n",
       "<table border=\"1\" class=\"dataframe\">\n",
       "  <thead>\n",
       "    <tr style=\"text-align: right;\">\n",
       "      <th></th>\n",
       "      <th>rating</th>\n",
       "      <th>Сount</th>\n",
       "    </tr>\n",
       "    <tr>\n",
       "      <th>title</th>\n",
       "      <th></th>\n",
       "      <th></th>\n",
       "    </tr>\n",
       "  </thead>\n",
       "  <tbody>\n",
       "    <tr>\n",
       "      <th>Awaken (2013)</th>\n",
       "      <td>5.0</td>\n",
       "      <td>2.0</td>\n",
       "    </tr>\n",
       "  </tbody>\n",
       "</table>\n",
       "</div>"
      ],
      "text/plain": [
       "               rating  Сount\n",
       "title                       \n",
       "Awaken (2013)     5.0    2.0"
      ]
     },
     "execution_count": 123,
     "metadata": {},
     "output_type": "execute_result"
    }
   ],
   "source": [
    "data.sort_values(by = ['rating','Сount'], ascending = [False, False]).head(1) # Сортируем по наивысшему рейтингу и количеству оценок"
   ]
  },
  {
   "cell_type": "code",
   "execution_count": null,
   "id": "ffae6c09",
   "metadata": {},
   "outputs": [],
   "source": [
    "# Задание 2"
   ]
  },
  {
   "cell_type": "code",
   "execution_count": 177,
   "id": "4cbbc56f",
   "metadata": {},
   "outputs": [],
   "source": [
    "df = pd.read_csv('power.csv')"
   ]
  },
  {
   "cell_type": "code",
   "execution_count": 178,
   "id": "8e3a61b3",
   "metadata": {},
   "outputs": [],
   "source": [
    "df = df[ (df['country'] == 'Lithuania') | (df['country'] == 'Latvia') | (df['country'] == 'Estonia') ]\n",
    "df = df[ (df['category'] == 4) | (df['category'] == 12) | (df['category'] == 21)]\n",
    "df = df[ df['quantity'] > 0 | (df['year'] >= 2005) & (df['year'] <= 2010) ]"
   ]
  },
  {
   "cell_type": "code",
   "execution_count": 180,
   "id": "e7075d00",
   "metadata": {},
   "outputs": [
    {
     "data": {
      "text/plain": [
       "970675.0"
      ]
     },
     "execution_count": 180,
     "metadata": {},
     "output_type": "execute_result"
    }
   ],
   "source": [
    "df['quantity'].sum()\n"
   ]
  },
  {
   "cell_type": "code",
   "execution_count": 181,
   "id": "7fa47282",
   "metadata": {},
   "outputs": [],
   "source": [
    "# Задание 3"
   ]
  },
  {
   "cell_type": "code",
   "execution_count": 183,
   "id": "c440f3dc",
   "metadata": {},
   "outputs": [
    {
     "data": {
      "text/html": [
       "<div>\n",
       "<style scoped>\n",
       "    .dataframe tbody tr th:only-of-type {\n",
       "        vertical-align: middle;\n",
       "    }\n",
       "\n",
       "    .dataframe tbody tr th {\n",
       "        vertical-align: top;\n",
       "    }\n",
       "\n",
       "    .dataframe thead th {\n",
       "        text-align: right;\n",
       "    }\n",
       "</style>\n",
       "<table border=\"1\" class=\"dataframe\">\n",
       "  <thead>\n",
       "    <tr style=\"text-align: right;\">\n",
       "      <th></th>\n",
       "      <th>Название</th>\n",
       "      <th>Цена</th>\n",
       "      <th>Изменение</th>\n",
       "      <th>Изменение(%)</th>\n",
       "      <th>Обновлено</th>\n",
       "    </tr>\n",
       "  </thead>\n",
       "  <tbody>\n",
       "    <tr>\n",
       "      <th>0</th>\n",
       "      <td>Нефть Brent Курс нефти сегодня</td>\n",
       "      <td>84.40</td>\n",
       "      <td>-0.66</td>\n",
       "      <td>-0.78</td>\n",
       "      <td>NaN</td>\n",
       "    </tr>\n",
       "    <tr>\n",
       "      <th>1</th>\n",
       "      <td>Нефть WTI Цены на нефть WTI</td>\n",
       "      <td>79.08</td>\n",
       "      <td>-0.68</td>\n",
       "      <td>-0.85</td>\n",
       "      <td>NaN</td>\n",
       "    </tr>\n",
       "    <tr>\n",
       "      <th>2</th>\n",
       "      <td>Природный газ Цена на природный газ</td>\n",
       "      <td>4.95</td>\n",
       "      <td>-0.26</td>\n",
       "      <td>-5.07</td>\n",
       "      <td>NaN</td>\n",
       "    </tr>\n",
       "    <tr>\n",
       "      <th>3</th>\n",
       "      <td>Кофе</td>\n",
       "      <td>167.75</td>\n",
       "      <td>1.25</td>\n",
       "      <td>0.75</td>\n",
       "      <td>NaN</td>\n",
       "    </tr>\n",
       "    <tr>\n",
       "      <th>4</th>\n",
       "      <td>Кукуруза</td>\n",
       "      <td>673.40</td>\n",
       "      <td>-0.60</td>\n",
       "      <td>-0.09</td>\n",
       "      <td>NaN</td>\n",
       "    </tr>\n",
       "    <tr>\n",
       "      <th>5</th>\n",
       "      <td>Соя</td>\n",
       "      <td>456.50</td>\n",
       "      <td>4.60</td>\n",
       "      <td>1.02</td>\n",
       "      <td>NaN</td>\n",
       "    </tr>\n",
       "    <tr>\n",
       "      <th>6</th>\n",
       "      <td>Хлопок</td>\n",
       "      <td>84.04</td>\n",
       "      <td>-0.20</td>\n",
       "      <td>-0.24</td>\n",
       "      <td>NaN</td>\n",
       "    </tr>\n",
       "  </tbody>\n",
       "</table>\n",
       "</div>"
      ],
      "text/plain": [
       "                              Название    Цена  Изменение  Изменение(%)  \\\n",
       "0       Нефть Brent Курс нефти сегодня   84.40      -0.66         -0.78   \n",
       "1          Нефть WTI Цены на нефть WTI   79.08      -0.68         -0.85   \n",
       "2  Природный газ Цена на природный газ    4.95      -0.26         -5.07   \n",
       "3                                 Кофе  167.75       1.25          0.75   \n",
       "4                             Кукуруза  673.40      -0.60         -0.09   \n",
       "5                                  Соя  456.50       4.60          1.02   \n",
       "6                               Хлопок   84.04      -0.20         -0.24   \n",
       "\n",
       "   Обновлено  \n",
       "0        NaN  \n",
       "1        NaN  \n",
       "2        NaN  \n",
       "3        NaN  \n",
       "4        NaN  \n",
       "5        NaN  \n",
       "6        NaN  "
      ]
     },
     "execution_count": 183,
     "metadata": {},
     "output_type": "execute_result"
    }
   ],
   "source": [
    "pd.read_html('https://fortrader.org/quotes')[1]"
   ]
  }
 ],
 "metadata": {
  "kernelspec": {
   "display_name": "Python 3 (ipykernel)",
   "language": "python",
   "name": "python3"
  },
  "language_info": {
   "codemirror_mode": {
    "name": "ipython",
    "version": 3
   },
   "file_extension": ".py",
   "mimetype": "text/x-python",
   "name": "python",
   "nbconvert_exporter": "python",
   "pygments_lexer": "ipython3",
   "version": "3.9.13"
  }
 },
 "nbformat": 4,
 "nbformat_minor": 5
}

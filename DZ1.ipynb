{
 "cells": [
  {
   "cell_type": "code",
   "execution_count": null,
   "id": "c426e904",
   "metadata": {},
   "outputs": [],
   "source": [
    "phrase_1 = 'Насколько проще было бы писать программы, если бы не заказчики'\n",
    "phrase_2 = '640Кб должно хватить для любых задач. Билл Гейтс (по легенде)'\n",
    "if len(phrase_1) > len(phrase_2):\n",
    "    print('Фраза 1 больше Фразы 2')\n",
    "elif len(phrase_2) > len(phrase_1):\n",
    "    print('Фраза 2 больше Фразы 1')\n",
    "else: print('Фразы равны')"
   ]
  },
  {
   "cell_type": "code",
   "execution_count": null,
   "id": "bce4bbde",
   "metadata": {},
   "outputs": [],
   "source": [
    "year = int(input ('Введите год '))\n",
    "if year % 4 == 0: \n",
    "    print (year, 'Высокосный год')\n",
    "else: print ('Год обычный')"
   ]
  },
  {
   "cell_type": "code",
   "execution_count": 4,
   "id": "eac9022f",
   "metadata": {},
   "outputs": [
    {
     "name": "stdout",
     "output_type": "stream",
     "text": [
      "Введите день: 1\n",
      "Введите месяц: Май\n",
      "Ваш знак задиака: Телец\n"
     ]
    }
   ],
   "source": [
    "day = int(input ('Введите день: '))\n",
    "month = input ('Введите месяц: ')\n",
    "month = month.lower()\n",
    "\n",
    "if day >0 and day<31 and month == 'январь' or 'февраль' or 'март' or 'апрель' or 'май' or 'июнь' or 'июль' or 'август' or 'сентябрь' or 'октябрь' or 'ноябрь' or 'декабрь': \n",
    "        if (day >=22 and month == 'декабрь') or (0 < day <=20 and month =='январь'): \n",
    "            print ('Ваш знак задиака: Козерог')\n",
    "        elif (day >=21 and month == 'январь') or (0 < day <=19 and month =='февраль'): \n",
    "            print ('Ваш знак задиака: Водолей')\n",
    "        elif (day >=20 and month == 'февраль') or (0 < day <=20 and month =='март'): \n",
    "            print ('Ваш знак задиака: Рыба')   \n",
    "        elif (day >=21 and month == 'март') or (0 < day <=20 and month =='апрель'): \n",
    "            print ('Ваш знак задиака: Овен')\n",
    "        elif (day >=21 and month == 'апрель') or (0 < day <=20 and month =='май'): \n",
    "            print ('Ваш знак задиака: Телец')\n",
    "        elif (day >=21 and month == 'май') or (0 < day <=21 and month =='июнь'): \n",
    "            print ('Ваш знак задиака: Близнец')\n",
    "        elif (day >=22 and month == 'июнь') or (0 < day <=22 and month =='июль'): \n",
    "            print ('Ваш знак задиака: Рак')\n",
    "        elif (day >=23 and month == 'июль') or (0 < day <=23 and month =='август'): \n",
    "            print ('Ваш знак задиака: Лев')\n",
    "        elif (day >=24 and month == 'август') or (0 < day <=23 and month =='сентябрь'): \n",
    "            print ('Ваш знак задиака: Дева')\n",
    "        elif (day >=24 and month == 'сентябрь') or (0 < day <=22 and month =='октябрь'): \n",
    "            print ('Ваш знак задиака: Весы')\n",
    "        elif (day >=23 and month == 'октябрь') or (0 < day <=22 and month =='ноябрь'): \n",
    "            print ('Ваш знак задиака: Скорпион')\n",
    "        elif (day >=23 and month == 'ноябрь') or (0 < day <=21 and month =='декабрь'): \n",
    "            print ('Ваш знак задиака: Скорпион')    \n",
    "\n"
   ]
  },
  {
   "cell_type": "markdown",
   "id": "a1889801",
   "metadata": {
    "scrolled": true
   },
   "source": [
    "width = int(input ('Введите ширину посылки: '))\n",
    "length = int(input ('ВВедите длинну посылки: '))\n",
    "height = int(input ('Введите высоту посылки: '))\n",
    "if width <=15 and length <=15 and height <= 15:\n",
    "    print ('Коробка №1')\n",
    "else: \n",
    "    if 50 > width and 50 > length and 50 > height:\n",
    "        print ('Коробка №2')\n",
    "    else:\n",
    "        if length > 200:\n",
    "            print ('Упаковка для лыж')\n",
    "        else: print ('Стандартная коробка №3')"
   ]
  },
  {
   "cell_type": "code",
   "execution_count": null,
   "id": "17e84674",
   "metadata": {
    "scrolled": true
   },
   "outputs": [],
   "source": [
    "number = input('Введите номер белета: ')\n",
    "if int(number[0])+int(number[1])+int(number[2]) == int(number[3])+int(number[4])+int(number[5]):\n",
    "    print ('Счастливый билет')\n",
    "else: print ('Не счастливый билет')"
   ]
  },
  {
   "cell_type": "code",
   "execution_count": 17,
   "id": "eaae6900",
   "metadata": {},
   "outputs": [
    {
     "name": "stdout",
     "output_type": "stream",
     "text": [
      "Введите тип фигурыПрямоугольник\n",
      "Введите длину стороны A:3\n",
      "Введите длину стороны B:3\n",
      "Площадь прямоугольника = 9\n"
     ]
    }
   ],
   "source": [
    "import math\n",
    "figura = input('Введите тип фигуры')\n",
    "figura = figura.lower()\n",
    "if figura == 'круг':\n",
    "    r = int(input('Введите радиус'))\n",
    "    print('Площадь круга=', math.pi*r**2)\n",
    "elif figura == 'треугольник':\n",
    "    a = int(input('Введите длину стороны A:'))\n",
    "    b = int(input('Введите длину стороны B:'))\n",
    "    c = int(input('Введите длину стороны C:'))\n",
    "    p = (a+b+c)/2\n",
    "    print('Площадь треугольника =', round(math.sqrt(p*(p-a)*(p-b)*(p-c)),2))\n",
    "elif figura == 'прямоугольник':\n",
    "    a = int(input('Введите длину стороны A:'))\n",
    "    b = int(input('Введите длину стороны B:'))\n",
    "    print('Площадь прямоугольника =', a*b)\n",
    "else: print('Вв ввели не верную фигуру')"
   ]
  },
  {
   "cell_type": "code",
   "execution_count": null,
   "id": "dde42fcf",
   "metadata": {},
   "outputs": [],
   "source": []
  },
  {
   "cell_type": "code",
   "execution_count": null,
   "id": "b7f66f52",
   "metadata": {},
   "outputs": [],
   "source": []
  },
  {
   "cell_type": "code",
   "execution_count": null,
   "id": "db1bd229",
   "metadata": {},
   "outputs": [],
   "source": []
  }
 ],
 "metadata": {
  "kernelspec": {
   "display_name": "Python 3 (ipykernel)",
   "language": "python",
   "name": "python3"
  },
  "language_info": {
   "codemirror_mode": {
    "name": "ipython",
    "version": 3
   },
   "file_extension": ".py",
   "mimetype": "text/x-python",
   "name": "python",
   "nbconvert_exporter": "python",
   "pygments_lexer": "ipython3",
   "version": "3.9.13"
  }
 },
 "nbformat": 4,
 "nbformat_minor": 5
}

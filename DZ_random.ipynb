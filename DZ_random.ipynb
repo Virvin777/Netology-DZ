{
 "cells": [
  {
   "cell_type": "code",
   "execution_count": 2,
   "metadata": {},
   "outputs": [],
   "source": [
    "import numpy as np"
   ]
  },
  {
   "cell_type": "code",
   "execution_count": 3,
   "metadata": {},
   "outputs": [
    {
     "name": "stdout",
     "output_type": "stream",
     "text": [
      "Средние потери игрока за игру = 0.19 копеек, при стоимости игры 1 рубль\n"
     ]
    }
   ],
   "source": [
    "trials = 1000000\n",
    "vin = 0\n",
    "\n",
    "for i in range(trials):\n",
    "    random_score = list(np.random.randint(0,10,3))\n",
    "    if random_score == [7,7,7]:\n",
    "        vin += 200\n",
    "    elif random_score == [9,9,9]:\n",
    "        vin += 100\n",
    "    elif random_score == [5,5,5]:\n",
    "        vin += 50\n",
    "    elif random_score == [3,3,3]:\n",
    "        vin += 15\n",
    "    elif random_score == [1,1,1]:\n",
    "        vin += 10\n",
    "    elif random_score[1:] == [7,7]:\n",
    "        vin += 5\n",
    "    elif random_score[2] == [7]:\n",
    "        vin += 3\n",
    "    elif random_score[1:] == [0,0]:\n",
    "        vin += 2\n",
    "    elif random_score[2] == [0]:\n",
    "        vin += 1\n",
    "\n",
    "if (vin / trials) > 1:\n",
    "    res = 'й выигрыш'\n",
    "else: \n",
    "    res = 'е потери'\n",
    "print(f'Средни{res} игрока за игру = {round(1 - (vin / trials), 2)} копеек, при стоимости игры 1 рубль')    "
   ]
  },
  {
   "attachments": {},
   "cell_type": "markdown",
   "metadata": {},
   "source": [
    "Теоритический расчет. Надо посчитать сумму всех вохможных выигрышей\n",
    "5 из 1000 - 375 (777, 999, 555, 333, 111)\n",
    "10 из 1000 - 50 (*77)\n",
    "100 из 1000 - 300 (**7)\n",
    "10 из 1000 - 20 (*00)\n",
    "100 из 1000 - 100 (**0)\n",
    "\n",
    "225 выигрышных комбинаций дают - 845 рублей из 1000 потраченных => коэфицент = 0.845 \n",
    "На практике мы получили около 0.86"
   ]
  },
  {
   "cell_type": "code",
   "execution_count": null,
   "metadata": {},
   "outputs": [],
   "source": []
  }
 ],
 "metadata": {
  "kernelspec": {
   "display_name": "base",
   "language": "python",
   "name": "python3"
  },
  "language_info": {
   "codemirror_mode": {
    "name": "ipython",
    "version": 3
   },
   "file_extension": ".py",
   "mimetype": "text/x-python",
   "name": "python",
   "nbconvert_exporter": "python",
   "pygments_lexer": "ipython3",
   "version": "3.9.13"
  },
  "orig_nbformat": 4,
  "vscode": {
   "interpreter": {
    "hash": "651c3b7b3f466eb030aa737f279c846be4db9cba49a2f229278cab5e41121ed5"
   }
  }
 },
 "nbformat": 4,
 "nbformat_minor": 2
}
